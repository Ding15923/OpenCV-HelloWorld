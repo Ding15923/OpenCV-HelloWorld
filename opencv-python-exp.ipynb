{
 "cells": [
  {
   "cell_type": "code",
   "execution_count": 1,
   "id": "88398a80",
   "metadata": {},
   "outputs": [],
   "source": [
    "# !pip install opencv-python"
   ]
  },
  {
   "cell_type": "code",
   "execution_count": 2,
   "id": "8e9251f4",
   "metadata": {},
   "outputs": [],
   "source": [
    "# 导入opencv时，用cv2\n",
    "import cv2"
   ]
  },
  {
   "cell_type": "markdown",
   "id": "601aa76d",
   "metadata": {},
   "source": [
    "# 1 opencv介绍"
   ]
  },
  {
   "cell_type": "code",
   "execution_count": 3,
   "id": "54114a3f",
   "metadata": {},
   "outputs": [],
   "source": [
    "# opencv采用C++变量命名规则，前一个单词首字母小写，后一个单词首字母大写"
   ]
  },
  {
   "cell_type": "markdown",
   "id": "2966df56",
   "metadata": {},
   "source": [
    "## 2.1 展示和创建窗口"
   ]
  },
  {
   "cell_type": "code",
   "execution_count": 4,
   "id": "130232f5",
   "metadata": {},
   "outputs": [],
   "source": [
    "# nameWindow() 创建命名窗口\n",
    "# cv2.WINDOW_AUTOSIZE不允许修改窗口大小\n",
    "cv2.namedWindow('MyWindow', cv2.WINDOW_NORMAL)\n",
    "\n",
    "# 更改窗口大小\n",
    "cv2.resizeWindow('MyWindow', 800, 600)\n",
    "\n",
    "# 展示名字为MyWindow的窗口\n",
    "cv2.imshow('MyWindow',0)\n",
    "\n",
    "# 使用waitKey()方法关闭窗口\n",
    "# 等待按键\n",
    "# 括号内数字为延迟时间，单位为毫秒\n",
    "key = cv2.waitKey(0)\n",
    "if key == ord('q'):\n",
    "    print('准备销毁窗口')\n",
    "    cv2.destroyAllWindows()"
   ]
  },
  {
   "cell_type": "markdown",
   "id": "fcb6bb93",
   "metadata": {},
   "source": [
    "## 2.2 加载显示图片"
   ]
  },
  {
   "cell_type": "code",
   "execution_count": 21,
   "id": "f2ebb72f",
   "metadata": {},
   "outputs": [
    {
     "data": {
      "text/plain": [
       "array([[[237, 238, 239],\n",
       "        [237, 238, 238],\n",
       "        [238, 238, 238],\n",
       "        ...,\n",
       "        [168, 167, 162],\n",
       "        [227, 226, 220],\n",
       "        [251, 250, 241]],\n",
       "\n",
       "       [[236, 238, 239],\n",
       "        [238, 238, 239],\n",
       "        [238, 238, 238],\n",
       "        ...,\n",
       "        [168, 167, 162],\n",
       "        [227, 226, 219],\n",
       "        [251, 250, 240]],\n",
       "\n",
       "       [[236, 237, 239],\n",
       "        [237, 238, 238],\n",
       "        [238, 238, 238],\n",
       "        ...,\n",
       "        [168, 167, 162],\n",
       "        [228, 226, 219],\n",
       "        [252, 250, 239]],\n",
       "\n",
       "       ...,\n",
       "\n",
       "       [[ 98,  98,  97],\n",
       "        [ 97,  98,  97],\n",
       "        [ 97,  98,  97],\n",
       "        ...,\n",
       "        [ 76,  74,  67],\n",
       "        [105, 103,  93],\n",
       "        [105, 101,  87]],\n",
       "\n",
       "       [[ 98,  98,  98],\n",
       "        [ 98,  98,  97],\n",
       "        [ 98,  98,  97],\n",
       "        ...,\n",
       "        [ 76,  74,  67],\n",
       "        [105, 103,  92],\n",
       "        [105, 101,  87]],\n",
       "\n",
       "       [[ 96,  94,  91],\n",
       "        [ 95,  94,  91],\n",
       "        [ 95,  94,  90],\n",
       "        ...,\n",
       "        [ 76,  74,  66],\n",
       "        [104, 102,  91],\n",
       "        [103, 100,  86]]], dtype=uint8)"
      ]
     },
     "execution_count": 21,
     "metadata": {},
     "output_type": "execute_result"
    }
   ],
   "source": [
    "import matplotlib.pyplot as plt\n",
    "import numpy as np\n",
    "\n",
    "# imread(path, flag), 默认加载彩色图片。flag为读取图片的方式\n",
    "cat = cv2.imread('figure_01.png')\n",
    "\n",
    "# numpy的ndarray\n",
    "cat"
   ]
  },
  {
   "cell_type": "code",
   "execution_count": 23,
   "id": "ade104cb",
   "metadata": {},
   "outputs": [
    {
     "name": "stdout",
     "output_type": "stream",
     "text": [
      "type_cat <class 'numpy.ndarray'>\n",
      "cat.shape (1212, 1244, 3)\n"
     ]
    }
   ],
   "source": [
    "print(\"type_cat\", type(cat))\n",
    "print(\"cat.shape\", cat.shape)"
   ]
  },
  {
   "cell_type": "code",
   "execution_count": 31,
   "id": "4684c91e",
   "metadata": {},
   "outputs": [
    {
     "name": "stdout",
     "output_type": "stream",
     "text": [
      "cat[500][500] <class 'numpy.ndarray'>\n",
      "cat[500][500][1] <class 'numpy.uint8'>\n",
      "cat[500][500][1] [255 255 255]\n"
     ]
    }
   ],
   "source": [
    "print(\"cat[500][500]\", type(cat[500][500]))\n",
    "print(\"cat[500][500][1]\", type(cat[500][500][1]))\n",
    "print(\"cat[500][500][1]\", cat[500][500])"
   ]
  },
  {
   "cell_type": "code",
   "execution_count": 33,
   "id": "50b50cc7",
   "metadata": {},
   "outputs": [],
   "source": [
    "# numpy的ndarray\n",
    "np.savetxt('out1.txt', cat[100],fmt=\"%d\")\n",
    "np.savetxt('out2.txt', cat[110],fmt=\"%d\")\n",
    "np.savetxt('out3.txt', cat[120],fmt=\"%d\")\n",
    "np.savetxt('out4.txt', cat[130],fmt=\"%d\")\n",
    "np.savetxt('out5.txt', cat[140],fmt=\"%d\")\n",
    "\n",
    "np.savetxt('out6.txt', cat[500],fmt=\"%d\")"
   ]
  },
  {
   "cell_type": "code",
   "execution_count": 6,
   "id": "e6defcfa",
   "metadata": {},
   "outputs": [
    {
     "data": {
      "text/plain": [
       "255"
      ]
     },
     "execution_count": 6,
     "metadata": {},
     "output_type": "execute_result"
    }
   ],
   "source": [
    "cat.max()"
   ]
  },
  {
   "cell_type": "code",
   "execution_count": 7,
   "id": "7d79d3fc",
   "metadata": {},
   "outputs": [
    {
     "data": {
      "text/plain": [
       "<matplotlib.image.AxesImage at 0x1aeb934bdf0>"
      ]
     },
     "execution_count": 7,
     "metadata": {},
     "output_type": "execute_result"
    },
    {
     "data": {
      "image/png": "[encoded data removed]",
      "text/plain": [
       "<Figure size 432x288 with 1 Axes>"
      ]
     },
     "metadata": {
      "needs_background": "light"
     },
     "output_type": "display_data"
    }
   ],
   "source": [
    "plt.imshow(cat)\n",
    "\n",
    "# matplotlib显示的图片与真实图片有色差\n",
    "# 原因是opencv都进来的图片数据通道不是默认的红-绿-蓝（RGB），而是蓝-绿-红（BGR）\n",
    "# 所以,openCV读进来的图片，不要用其他方式展示（比如matplotlib）\n",
    "# 要用openCV自带的工具进行展示"
   ]
  },
  {
   "cell_type": "code",
   "execution_count": 8,
   "id": "0ad5bfe3",
   "metadata": {},
   "outputs": [],
   "source": [
    "cv2.imshow('cat', cat)\n",
    "key = cv2.waitKey(0)\n",
    "if key == ord('q'):                                                                                                                                                                                                                                                                                                                                     \n",
    "    print('准备销毁窗口')\n",
    "    cv2.destroyAllWindows()"
   ]
  },
  {
   "cell_type": "code",
   "execution_count": 10,
   "id": "ab8ec93e",
   "metadata": {},
   "outputs": [],
   "source": [
    "import numpy as np\n",
    "import cv2\n",
    "from matplotlib import pyplot as plt\n",
    "\n",
    "img_path = 'figure_01.png'\n",
    "\n",
    "img = cv2.imread(img_path)\n",
    "edges = cv2.Canny(img, 30, 80)\n",
    "\n",
    "cv2.imshow('edges', edges)\n",
    "key = cv2.waitKey(0)\n",
    "if key == ord('q'):                                                                                                                                                                                                                                                                                                                                     \n",
    "    print('准备销毁窗口')\n",
    "    cv2.destroyAllWindows()"
   ]
  },
  {
   "cell_type": "code",
   "execution_count": 11,
   "id": "e852bcb0",
   "metadata": {},
   "outputs": [
    {
     "data": {
      "text/plain": [
       "True"
      ]
     },
     "execution_count": 11,
     "metadata": {},
     "output_type": "execute_result"
    }
   ],
   "source": [
    "image_path = \"保存图片.jpg\"\n",
    "cv2.imwrite(image_path, edges)"
   ]
  },
  {
   "cell_type": "code",
   "execution_count": 3,
   "id": "8a08cc50",
   "metadata": {},
   "outputs": [
    {
     "data": {
      "image/png": "[encoded data removed]",
      "text/plain": [
       "<Figure size 432x288 with 1 Axes>"
      ]
     },
     "metadata": {
      "needs_background": "light"
     },
     "output_type": "display_data"
    },
    {
     "name": "stdout",
     "output_type": "stream",
     "text": [
      "553\n"
     ]
    },
    {
     "data": {
      "image/png": "[encoded data removed]",
      "text/plain": [
       "<Figure size 432x288 with 1 Axes>"
      ]
     },
     "metadata": {
      "needs_background": "light"
     },
     "output_type": "display_data"
    }
   ],
   "source": [
    "import numpy as np\n",
    "import cv2\n",
    "from matplotlib import pyplot as plt\n",
    "\n",
    "img_path = 'figure_01.png'\n",
    "\n",
    "def angle_cos(p0, p1, p2):\n",
    "    import numpy as np\n",
    "\n",
    "    d1, d2 = (p0-p1).astype('float'), (p2-p1).astype('float')\n",
    "    return abs( np.dot(d1, d2) / np.sqrt( np.dot(d1, d1)*np.dot(d2, d2) ) )\n",
    "\n",
    "def find_squares(img):\n",
    "    import cv2 as cv\n",
    "    import numpy as np\n",
    "\n",
    "    # cv.GaussianBlur(InputArray src, OutputArray dst, Size ksize, double sigmaX, double sigmaY=0, int borderType=BORDER_DEFAULT)\n",
    "    # src: 源图像\n",
    "    # dst：目标图像\n",
    "    # ksize：高斯核的尺寸\n",
    "    # sigmaX, sigmaY：高斯核的标准差\n",
    "    # 使用高斯滤波进行降噪\n",
    "    img = cv.GaussianBlur(img, (5, 5), 0)\n",
    "    squares = []\n",
    "    for gray in cv.split(img):\n",
    "        for thrs in range(0, 255, 26):\n",
    "            if thrs == 0:\n",
    "                bin = cv.Canny(gray, 0, 70, apertureSize=3)\n",
    "                # bin = cv.dilate(bin, None)\n",
    "            else:\n",
    "                _retval, bin = cv.threshold(gray, thrs, 255, cv.THRESH_BINARY)\n",
    "            contours, _hierarchy = cv.findContours(bin, cv.RETR_LIST, cv.CHAIN_APPROX_SIMPLE)\n",
    "            for cnt in contours:\n",
    "                cnt_len = cv.arcLength(cnt, True)\n",
    "                cnt = cv.approxPolyDP(cnt, 0.02*cnt_len, True)\n",
    "                if len(cnt) == 4 and cv.contourArea(cnt) > 1000 and cv.isContourConvex(cnt):\n",
    "                    cnt = cnt.reshape(-1, 2)\n",
    "                    max_cos = np.max([angle_cos( cnt[i], cnt[(i+1) % 4], cnt[(i+2) % 4] ) for i in range(4)])\n",
    "                    if max_cos < 0.1:\n",
    "                        squares.append(cnt)\n",
    "    print(len(squares))\n",
    "    return squares\n",
    "\n",
    "img = cv2.imread(img_path,1)\n",
    "\n",
    "plt.axis(\"off\")\n",
    "plt.imshow(cv2.cvtColor(img, cv2.COLOR_BGR2RGB))\n",
    "plt.show()\n",
    "\n",
    "squares = find_squares(img)\n",
    "cv2.drawContours( img, squares, -1, (0, 255, 0), 1 )\n",
    "plt.imshow(cv2.cvtColor(img, cv2.COLOR_BGR2RGB))\n",
    "plt.show()"
   ]
  },
  {
   "cell_type": "code",
   "execution_count": 34,
   "id": "b91015f4",
   "metadata": {},
   "outputs": [],
   "source": [
    "color_dist = {\n",
    "    'color_01': {'Lower': np.array([236, 236, 236]), 'Upper': np.array([238, 238, 238])},\n",
    "    'color_02': {'Lower': np.array([238, 217, 196]), 'Upper': np.array([240, 219, 198])},\n",
    "    'color_03': {'Lower': np.array([247, 203, 166]), 'Upper': np.array([249, 205, 168])},\n",
    "    'color_04': {'Lower': np.array([254, 254, 254]), 'Upper': np.array([255, 255, 255])},\n",
    "}"
   ]
  },
  {
   "cell_type": "code",
   "execution_count": null,
   "id": "ab410df5",
   "metadata": {},
   "outputs": [],
   "source": []
  }
 ],
 "metadata": {
  "kernelspec": {
   "display_name": "Python 3 (ipykernel)",
   "language": "python",
   "name": "python3"
  },
  "language_info": {
   "codemirror_mode": {
    "name": "ipython",
    "version": 3
   },
   "file_extension": ".py",
   "mimetype": "text/x-python",
   "name": "python",
   "nbconvert_exporter": "python",
   "pygments_lexer": "ipython3",
   "version": "3.9.7"
  }
 },
 "nbformat": 4,
 "nbformat_minor": 5
}
